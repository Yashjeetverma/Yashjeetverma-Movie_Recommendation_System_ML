{
  "nbformat": 4,
  "nbformat_minor": 0,
  "metadata": {
    "colab": {
      "provenance": []
    },
    "kernelspec": {
      "name": "python3",
      "display_name": "Python 3"
    },
    "language_info": {
      "name": "python"
    }
  },
  "cells": [
    {
      "cell_type": "markdown",
      "source": [
        "Importing the library"
      ],
      "metadata": {
        "id": "TZR8Coe_kL97"
      }
    },
    {
      "cell_type": "code",
      "execution_count": 2,
      "metadata": {
        "id": "I-e3bSA2jMfE"
      },
      "outputs": [],
      "source": [
        "import numpy as np\n",
        "import pandas as pd\n",
        "import difflib\n",
        "from sklearn.feature_extraction.text import TfidfVectorizer\n",
        "from sklearn.metrics.pairwise import cosine_similarity"
      ]
    },
    {
      "cell_type": "code",
      "source": [
        "# koading thr data from the csv file to a pandas dataframe\n",
        "movie_data = pd.read_csv('/content/movies.csv')"
      ],
      "metadata": {
        "id": "s32ASmnunk-V"
      },
      "execution_count": 3,
      "outputs": []
    },
    {
      "cell_type": "code",
      "source": [
        "# print 1st five row of dataset in order to understand which type of row and col we have\n",
        "movie_data.head()"
      ],
      "metadata": {
        "colab": {
          "base_uri": "https://localhost:8080/",
          "height": 794
        },
        "id": "eY0Sh3Hkn-FE",
        "outputId": "3546af9b-3efd-4e96-cd7e-1e3a6c8cd02d"
      },
      "execution_count": 4,
      "outputs": [
        {
          "output_type": "execute_result",
          "data": {
            "text/plain": [
              "   index     budget                                    genres  \\\n",
              "0      0  237000000  Action Adventure Fantasy Science Fiction   \n",
              "1      1  300000000                  Adventure Fantasy Action   \n",
              "2      2  245000000                    Action Adventure Crime   \n",
              "3      3  250000000               Action Crime Drama Thriller   \n",
              "4      4  260000000          Action Adventure Science Fiction   \n",
              "\n",
              "                                       homepage      id  \\\n",
              "0                   http://www.avatarmovie.com/   19995   \n",
              "1  http://disney.go.com/disneypictures/pirates/     285   \n",
              "2   http://www.sonypictures.com/movies/spectre/  206647   \n",
              "3            http://www.thedarkknightrises.com/   49026   \n",
              "4          http://movies.disney.com/john-carter   49529   \n",
              "\n",
              "                                            keywords original_language  \\\n",
              "0  culture clash future space war space colony so...                en   \n",
              "1  ocean drug abuse exotic island east india trad...                en   \n",
              "2         spy based on novel secret agent sequel mi6                en   \n",
              "3  dc comics crime fighter terrorist secret ident...                en   \n",
              "4  based on novel mars medallion space travel pri...                en   \n",
              "\n",
              "                             original_title  \\\n",
              "0                                    Avatar   \n",
              "1  Pirates of the Caribbean: At World's End   \n",
              "2                                   Spectre   \n",
              "3                     The Dark Knight Rises   \n",
              "4                               John Carter   \n",
              "\n",
              "                                            overview  popularity  ... runtime  \\\n",
              "0  In the 22nd century, a paraplegic Marine is di...  150.437577  ...   162.0   \n",
              "1  Captain Barbossa, long believed to be dead, ha...  139.082615  ...   169.0   \n",
              "2  A cryptic message from Bond’s past sends him o...  107.376788  ...   148.0   \n",
              "3  Following the death of District Attorney Harve...  112.312950  ...   165.0   \n",
              "4  John Carter is a war-weary, former military ca...   43.926995  ...   132.0   \n",
              "\n",
              "                                    spoken_languages    status  \\\n",
              "0  [{\"iso_639_1\": \"en\", \"name\": \"English\"}, {\"iso...  Released   \n",
              "1           [{\"iso_639_1\": \"en\", \"name\": \"English\"}]  Released   \n",
              "2  [{\"iso_639_1\": \"fr\", \"name\": \"Fran\\u00e7ais\"},...  Released   \n",
              "3           [{\"iso_639_1\": \"en\", \"name\": \"English\"}]  Released   \n",
              "4           [{\"iso_639_1\": \"en\", \"name\": \"English\"}]  Released   \n",
              "\n",
              "                                          tagline  \\\n",
              "0                     Enter the World of Pandora.   \n",
              "1  At the end of the world, the adventure begins.   \n",
              "2                           A Plan No One Escapes   \n",
              "3                                 The Legend Ends   \n",
              "4            Lost in our world, found in another.   \n",
              "\n",
              "                                      title vote_average vote_count  \\\n",
              "0                                    Avatar          7.2      11800   \n",
              "1  Pirates of the Caribbean: At World's End          6.9       4500   \n",
              "2                                   Spectre          6.3       4466   \n",
              "3                     The Dark Knight Rises          7.6       9106   \n",
              "4                               John Carter          6.1       2124   \n",
              "\n",
              "                                                cast  \\\n",
              "0  Sam Worthington Zoe Saldana Sigourney Weaver S...   \n",
              "1  Johnny Depp Orlando Bloom Keira Knightley Stel...   \n",
              "2  Daniel Craig Christoph Waltz L\\u00e9a Seydoux ...   \n",
              "3  Christian Bale Michael Caine Gary Oldman Anne ...   \n",
              "4  Taylor Kitsch Lynn Collins Samantha Morton Wil...   \n",
              "\n",
              "                                                crew           director  \n",
              "0  [{'name': 'Stephen E. Rivkin', 'gender': 0, 'd...      James Cameron  \n",
              "1  [{'name': 'Dariusz Wolski', 'gender': 2, 'depa...     Gore Verbinski  \n",
              "2  [{'name': 'Thomas Newman', 'gender': 2, 'depar...         Sam Mendes  \n",
              "3  [{'name': 'Hans Zimmer', 'gender': 2, 'departm...  Christopher Nolan  \n",
              "4  [{'name': 'Andrew Stanton', 'gender': 2, 'depa...     Andrew Stanton  \n",
              "\n",
              "[5 rows x 24 columns]"
            ],
            "text/html": [
              "\n",
              "  <div id=\"df-08b047fd-b0d0-48f6-8b90-01ca8758b8d7\" class=\"colab-df-container\">\n",
              "    <div>\n",
              "<style scoped>\n",
              "    .dataframe tbody tr th:only-of-type {\n",
              "        vertical-align: middle;\n",
              "    }\n",
              "\n",
              "    .dataframe tbody tr th {\n",
              "        vertical-align: top;\n",
              "    }\n",
              "\n",
              "    .dataframe thead th {\n",
              "        text-align: right;\n",
              "    }\n",
              "</style>\n",
              "<table border=\"1\" class=\"dataframe\">\n",
              "  <thead>\n",
              "    <tr style=\"text-align: right;\">\n",
              "      <th></th>\n",
              "      <th>index</th>\n",
              "      <th>budget</th>\n",
              "      <th>genres</th>\n",
              "      <th>homepage</th>\n",
              "      <th>id</th>\n",
              "      <th>keywords</th>\n",
              "      <th>original_language</th>\n",
              "      <th>original_title</th>\n",
              "      <th>overview</th>\n",
              "      <th>popularity</th>\n",
              "      <th>...</th>\n",
              "      <th>runtime</th>\n",
              "      <th>spoken_languages</th>\n",
              "      <th>status</th>\n",
              "      <th>tagline</th>\n",
              "      <th>title</th>\n",
              "      <th>vote_average</th>\n",
              "      <th>vote_count</th>\n",
              "      <th>cast</th>\n",
              "      <th>crew</th>\n",
              "      <th>director</th>\n",
              "    </tr>\n",
              "  </thead>\n",
              "  <tbody>\n",
              "    <tr>\n",
              "      <th>0</th>\n",
              "      <td>0</td>\n",
              "      <td>237000000</td>\n",
              "      <td>Action Adventure Fantasy Science Fiction</td>\n",
              "      <td>http://www.avatarmovie.com/</td>\n",
              "      <td>19995</td>\n",
              "      <td>culture clash future space war space colony so...</td>\n",
              "      <td>en</td>\n",
              "      <td>Avatar</td>\n",
              "      <td>In the 22nd century, a paraplegic Marine is di...</td>\n",
              "      <td>150.437577</td>\n",
              "      <td>...</td>\n",
              "      <td>162.0</td>\n",
              "      <td>[{\"iso_639_1\": \"en\", \"name\": \"English\"}, {\"iso...</td>\n",
              "      <td>Released</td>\n",
              "      <td>Enter the World of Pandora.</td>\n",
              "      <td>Avatar</td>\n",
              "      <td>7.2</td>\n",
              "      <td>11800</td>\n",
              "      <td>Sam Worthington Zoe Saldana Sigourney Weaver S...</td>\n",
              "      <td>[{'name': 'Stephen E. Rivkin', 'gender': 0, 'd...</td>\n",
              "      <td>James Cameron</td>\n",
              "    </tr>\n",
              "    <tr>\n",
              "      <th>1</th>\n",
              "      <td>1</td>\n",
              "      <td>300000000</td>\n",
              "      <td>Adventure Fantasy Action</td>\n",
              "      <td>http://disney.go.com/disneypictures/pirates/</td>\n",
              "      <td>285</td>\n",
              "      <td>ocean drug abuse exotic island east india trad...</td>\n",
              "      <td>en</td>\n",
              "      <td>Pirates of the Caribbean: At World's End</td>\n",
              "      <td>Captain Barbossa, long believed to be dead, ha...</td>\n",
              "      <td>139.082615</td>\n",
              "      <td>...</td>\n",
              "      <td>169.0</td>\n",
              "      <td>[{\"iso_639_1\": \"en\", \"name\": \"English\"}]</td>\n",
              "      <td>Released</td>\n",
              "      <td>At the end of the world, the adventure begins.</td>\n",
              "      <td>Pirates of the Caribbean: At World's End</td>\n",
              "      <td>6.9</td>\n",
              "      <td>4500</td>\n",
              "      <td>Johnny Depp Orlando Bloom Keira Knightley Stel...</td>\n",
              "      <td>[{'name': 'Dariusz Wolski', 'gender': 2, 'depa...</td>\n",
              "      <td>Gore Verbinski</td>\n",
              "    </tr>\n",
              "    <tr>\n",
              "      <th>2</th>\n",
              "      <td>2</td>\n",
              "      <td>245000000</td>\n",
              "      <td>Action Adventure Crime</td>\n",
              "      <td>http://www.sonypictures.com/movies/spectre/</td>\n",
              "      <td>206647</td>\n",
              "      <td>spy based on novel secret agent sequel mi6</td>\n",
              "      <td>en</td>\n",
              "      <td>Spectre</td>\n",
              "      <td>A cryptic message from Bond’s past sends him o...</td>\n",
              "      <td>107.376788</td>\n",
              "      <td>...</td>\n",
              "      <td>148.0</td>\n",
              "      <td>[{\"iso_639_1\": \"fr\", \"name\": \"Fran\\u00e7ais\"},...</td>\n",
              "      <td>Released</td>\n",
              "      <td>A Plan No One Escapes</td>\n",
              "      <td>Spectre</td>\n",
              "      <td>6.3</td>\n",
              "      <td>4466</td>\n",
              "      <td>Daniel Craig Christoph Waltz L\\u00e9a Seydoux ...</td>\n",
              "      <td>[{'name': 'Thomas Newman', 'gender': 2, 'depar...</td>\n",
              "      <td>Sam Mendes</td>\n",
              "    </tr>\n",
              "    <tr>\n",
              "      <th>3</th>\n",
              "      <td>3</td>\n",
              "      <td>250000000</td>\n",
              "      <td>Action Crime Drama Thriller</td>\n",
              "      <td>http://www.thedarkknightrises.com/</td>\n",
              "      <td>49026</td>\n",
              "      <td>dc comics crime fighter terrorist secret ident...</td>\n",
              "      <td>en</td>\n",
              "      <td>The Dark Knight Rises</td>\n",
              "      <td>Following the death of District Attorney Harve...</td>\n",
              "      <td>112.312950</td>\n",
              "      <td>...</td>\n",
              "      <td>165.0</td>\n",
              "      <td>[{\"iso_639_1\": \"en\", \"name\": \"English\"}]</td>\n",
              "      <td>Released</td>\n",
              "      <td>The Legend Ends</td>\n",
              "      <td>The Dark Knight Rises</td>\n",
              "      <td>7.6</td>\n",
              "      <td>9106</td>\n",
              "      <td>Christian Bale Michael Caine Gary Oldman Anne ...</td>\n",
              "      <td>[{'name': 'Hans Zimmer', 'gender': 2, 'departm...</td>\n",
              "      <td>Christopher Nolan</td>\n",
              "    </tr>\n",
              "    <tr>\n",
              "      <th>4</th>\n",
              "      <td>4</td>\n",
              "      <td>260000000</td>\n",
              "      <td>Action Adventure Science Fiction</td>\n",
              "      <td>http://movies.disney.com/john-carter</td>\n",
              "      <td>49529</td>\n",
              "      <td>based on novel mars medallion space travel pri...</td>\n",
              "      <td>en</td>\n",
              "      <td>John Carter</td>\n",
              "      <td>John Carter is a war-weary, former military ca...</td>\n",
              "      <td>43.926995</td>\n",
              "      <td>...</td>\n",
              "      <td>132.0</td>\n",
              "      <td>[{\"iso_639_1\": \"en\", \"name\": \"English\"}]</td>\n",
              "      <td>Released</td>\n",
              "      <td>Lost in our world, found in another.</td>\n",
              "      <td>John Carter</td>\n",
              "      <td>6.1</td>\n",
              "      <td>2124</td>\n",
              "      <td>Taylor Kitsch Lynn Collins Samantha Morton Wil...</td>\n",
              "      <td>[{'name': 'Andrew Stanton', 'gender': 2, 'depa...</td>\n",
              "      <td>Andrew Stanton</td>\n",
              "    </tr>\n",
              "  </tbody>\n",
              "</table>\n",
              "<p>5 rows × 24 columns</p>\n",
              "</div>\n",
              "    <div class=\"colab-df-buttons\">\n",
              "\n",
              "  <div class=\"colab-df-container\">\n",
              "    <button class=\"colab-df-convert\" onclick=\"convertToInteractive('df-08b047fd-b0d0-48f6-8b90-01ca8758b8d7')\"\n",
              "            title=\"Convert this dataframe to an interactive table.\"\n",
              "            style=\"display:none;\">\n",
              "\n",
              "  <svg xmlns=\"http://www.w3.org/2000/svg\" height=\"24px\" viewBox=\"0 -960 960 960\">\n",
              "    <path d=\"M120-120v-720h720v720H120Zm60-500h600v-160H180v160Zm220 220h160v-160H400v160Zm0 220h160v-160H400v160ZM180-400h160v-160H180v160Zm440 0h160v-160H620v160ZM180-180h160v-160H180v160Zm440 0h160v-160H620v160Z\"/>\n",
              "  </svg>\n",
              "    </button>\n",
              "\n",
              "  <style>\n",
              "    .colab-df-container {\n",
              "      display:flex;\n",
              "      gap: 12px;\n",
              "    }\n",
              "\n",
              "    .colab-df-convert {\n",
              "      background-color: #E8F0FE;\n",
              "      border: none;\n",
              "      border-radius: 50%;\n",
              "      cursor: pointer;\n",
              "      display: none;\n",
              "      fill: #1967D2;\n",
              "      height: 32px;\n",
              "      padding: 0 0 0 0;\n",
              "      width: 32px;\n",
              "    }\n",
              "\n",
              "    .colab-df-convert:hover {\n",
              "      background-color: #E2EBFA;\n",
              "      box-shadow: 0px 1px 2px rgba(60, 64, 67, 0.3), 0px 1px 3px 1px rgba(60, 64, 67, 0.15);\n",
              "      fill: #174EA6;\n",
              "    }\n",
              "\n",
              "    .colab-df-buttons div {\n",
              "      margin-bottom: 4px;\n",
              "    }\n",
              "\n",
              "    [theme=dark] .colab-df-convert {\n",
              "      background-color: #3B4455;\n",
              "      fill: #D2E3FC;\n",
              "    }\n",
              "\n",
              "    [theme=dark] .colab-df-convert:hover {\n",
              "      background-color: #434B5C;\n",
              "      box-shadow: 0px 1px 3px 1px rgba(0, 0, 0, 0.15);\n",
              "      filter: drop-shadow(0px 1px 2px rgba(0, 0, 0, 0.3));\n",
              "      fill: #FFFFFF;\n",
              "    }\n",
              "  </style>\n",
              "\n",
              "    <script>\n",
              "      const buttonEl =\n",
              "        document.querySelector('#df-08b047fd-b0d0-48f6-8b90-01ca8758b8d7 button.colab-df-convert');\n",
              "      buttonEl.style.display =\n",
              "        google.colab.kernel.accessAllowed ? 'block' : 'none';\n",
              "\n",
              "      async function convertToInteractive(key) {\n",
              "        const element = document.querySelector('#df-08b047fd-b0d0-48f6-8b90-01ca8758b8d7');\n",
              "        const dataTable =\n",
              "          await google.colab.kernel.invokeFunction('convertToInteractive',\n",
              "                                                    [key], {});\n",
              "        if (!dataTable) return;\n",
              "\n",
              "        const docLinkHtml = 'Like what you see? Visit the ' +\n",
              "          '<a target=\"_blank\" href=https://colab.research.google.com/notebooks/data_table.ipynb>data table notebook</a>'\n",
              "          + ' to learn more about interactive tables.';\n",
              "        element.innerHTML = '';\n",
              "        dataTable['output_type'] = 'display_data';\n",
              "        await google.colab.output.renderOutput(dataTable, element);\n",
              "        const docLink = document.createElement('div');\n",
              "        docLink.innerHTML = docLinkHtml;\n",
              "        element.appendChild(docLink);\n",
              "      }\n",
              "    </script>\n",
              "  </div>\n",
              "\n",
              "\n",
              "<div id=\"df-fe86ed71-d78a-44ba-beb0-f9f9dbfe1e47\">\n",
              "  <button class=\"colab-df-quickchart\" onclick=\"quickchart('df-fe86ed71-d78a-44ba-beb0-f9f9dbfe1e47')\"\n",
              "            title=\"Suggest charts\"\n",
              "            style=\"display:none;\">\n",
              "\n",
              "<svg xmlns=\"http://www.w3.org/2000/svg\" height=\"24px\"viewBox=\"0 0 24 24\"\n",
              "     width=\"24px\">\n",
              "    <g>\n",
              "        <path d=\"M19 3H5c-1.1 0-2 .9-2 2v14c0 1.1.9 2 2 2h14c1.1 0 2-.9 2-2V5c0-1.1-.9-2-2-2zM9 17H7v-7h2v7zm4 0h-2V7h2v10zm4 0h-2v-4h2v4z\"/>\n",
              "    </g>\n",
              "</svg>\n",
              "  </button>\n",
              "\n",
              "<style>\n",
              "  .colab-df-quickchart {\n",
              "      --bg-color: #E8F0FE;\n",
              "      --fill-color: #1967D2;\n",
              "      --hover-bg-color: #E2EBFA;\n",
              "      --hover-fill-color: #174EA6;\n",
              "      --disabled-fill-color: #AAA;\n",
              "      --disabled-bg-color: #DDD;\n",
              "  }\n",
              "\n",
              "  [theme=dark] .colab-df-quickchart {\n",
              "      --bg-color: #3B4455;\n",
              "      --fill-color: #D2E3FC;\n",
              "      --hover-bg-color: #434B5C;\n",
              "      --hover-fill-color: #FFFFFF;\n",
              "      --disabled-bg-color: #3B4455;\n",
              "      --disabled-fill-color: #666;\n",
              "  }\n",
              "\n",
              "  .colab-df-quickchart {\n",
              "    background-color: var(--bg-color);\n",
              "    border: none;\n",
              "    border-radius: 50%;\n",
              "    cursor: pointer;\n",
              "    display: none;\n",
              "    fill: var(--fill-color);\n",
              "    height: 32px;\n",
              "    padding: 0;\n",
              "    width: 32px;\n",
              "  }\n",
              "\n",
              "  .colab-df-quickchart:hover {\n",
              "    background-color: var(--hover-bg-color);\n",
              "    box-shadow: 0 1px 2px rgba(60, 64, 67, 0.3), 0 1px 3px 1px rgba(60, 64, 67, 0.15);\n",
              "    fill: var(--button-hover-fill-color);\n",
              "  }\n",
              "\n",
              "  .colab-df-quickchart-complete:disabled,\n",
              "  .colab-df-quickchart-complete:disabled:hover {\n",
              "    background-color: var(--disabled-bg-color);\n",
              "    fill: var(--disabled-fill-color);\n",
              "    box-shadow: none;\n",
              "  }\n",
              "\n",
              "  .colab-df-spinner {\n",
              "    border: 2px solid var(--fill-color);\n",
              "    border-color: transparent;\n",
              "    border-bottom-color: var(--fill-color);\n",
              "    animation:\n",
              "      spin 1s steps(1) infinite;\n",
              "  }\n",
              "\n",
              "  @keyframes spin {\n",
              "    0% {\n",
              "      border-color: transparent;\n",
              "      border-bottom-color: var(--fill-color);\n",
              "      border-left-color: var(--fill-color);\n",
              "    }\n",
              "    20% {\n",
              "      border-color: transparent;\n",
              "      border-left-color: var(--fill-color);\n",
              "      border-top-color: var(--fill-color);\n",
              "    }\n",
              "    30% {\n",
              "      border-color: transparent;\n",
              "      border-left-color: var(--fill-color);\n",
              "      border-top-color: var(--fill-color);\n",
              "      border-right-color: var(--fill-color);\n",
              "    }\n",
              "    40% {\n",
              "      border-color: transparent;\n",
              "      border-right-color: var(--fill-color);\n",
              "      border-top-color: var(--fill-color);\n",
              "    }\n",
              "    60% {\n",
              "      border-color: transparent;\n",
              "      border-right-color: var(--fill-color);\n",
              "    }\n",
              "    80% {\n",
              "      border-color: transparent;\n",
              "      border-right-color: var(--fill-color);\n",
              "      border-bottom-color: var(--fill-color);\n",
              "    }\n",
              "    90% {\n",
              "      border-color: transparent;\n",
              "      border-bottom-color: var(--fill-color);\n",
              "    }\n",
              "  }\n",
              "</style>\n",
              "\n",
              "  <script>\n",
              "    async function quickchart(key) {\n",
              "      const quickchartButtonEl =\n",
              "        document.querySelector('#' + key + ' button');\n",
              "      quickchartButtonEl.disabled = true;  // To prevent multiple clicks.\n",
              "      quickchartButtonEl.classList.add('colab-df-spinner');\n",
              "      try {\n",
              "        const charts = await google.colab.kernel.invokeFunction(\n",
              "            'suggestCharts', [key], {});\n",
              "      } catch (error) {\n",
              "        console.error('Error during call to suggestCharts:', error);\n",
              "      }\n",
              "      quickchartButtonEl.classList.remove('colab-df-spinner');\n",
              "      quickchartButtonEl.classList.add('colab-df-quickchart-complete');\n",
              "    }\n",
              "    (() => {\n",
              "      let quickchartButtonEl =\n",
              "        document.querySelector('#df-fe86ed71-d78a-44ba-beb0-f9f9dbfe1e47 button');\n",
              "      quickchartButtonEl.style.display =\n",
              "        google.colab.kernel.accessAllowed ? 'block' : 'none';\n",
              "    })();\n",
              "  </script>\n",
              "</div>\n",
              "\n",
              "    </div>\n",
              "  </div>\n"
            ],
            "application/vnd.google.colaboratory.intrinsic+json": {
              "type": "dataframe",
              "variable_name": "movie_data"
            }
          },
          "metadata": {},
          "execution_count": 4
        }
      ]
    },
    {
      "cell_type": "code",
      "source": [
        "# how many number of row and col in the data set\n",
        "movie_data.shape"
      ],
      "metadata": {
        "colab": {
          "base_uri": "https://localhost:8080/"
        },
        "id": "4DWNdkUWp_nD",
        "outputId": "e133eee6-fcd4-4489-cfeb-cdfc3f86dde6"
      },
      "execution_count": 5,
      "outputs": [
        {
          "output_type": "execute_result",
          "data": {
            "text/plain": [
              "(4803, 24)"
            ]
          },
          "metadata": {},
          "execution_count": 5
        }
      ]
    },
    {
      "cell_type": "code",
      "source": [
        "# selecting the relevant feature\n",
        "selected_feature = ['genres','keywords','tagline','cast','director']\n",
        "print(selected_feature)"
      ],
      "metadata": {
        "colab": {
          "base_uri": "https://localhost:8080/"
        },
        "id": "eOaOsCm8qTZb",
        "outputId": "e773a03b-cf7c-4f13-ce74-bc8d17e88f90"
      },
      "execution_count": 6,
      "outputs": [
        {
          "output_type": "stream",
          "name": "stdout",
          "text": [
            "['genres', 'keywords', 'tagline', 'cast', 'director']\n"
          ]
        }
      ]
    },
    {
      "cell_type": "code",
      "source": [
        "# Now replace the null value with null string from selected feature , i.e from 5 rows\n",
        "for feature in selected_feature:\n",
        "      movie_data[feature] = movie_data[feature].fillna('')"
      ],
      "metadata": {
        "id": "PpXJgAMntWHY"
      },
      "execution_count": 7,
      "outputs": []
    },
    {
      "cell_type": "code",
      "source": [
        "#combine all five feature together, just concatinate\n",
        "combined_feature = movie_data['genres']+' '+movie_data['keywords']+' '+movie_data['tagline']+' '+movie_data['cast']+' '+movie_data['director']"
      ],
      "metadata": {
        "id": "4W8vHRfOvhCG"
      },
      "execution_count": 8,
      "outputs": []
    },
    {
      "cell_type": "code",
      "source": [
        "print(combined_feature)"
      ],
      "metadata": {
        "colab": {
          "base_uri": "https://localhost:8080/"
        },
        "id": "Blmce4LtwLuX",
        "outputId": "56d3a28e-45c2-4ab2-ac49-8ac39b238e1d"
      },
      "execution_count": 9,
      "outputs": [
        {
          "output_type": "stream",
          "name": "stdout",
          "text": [
            "0       Action Adventure Fantasy Science Fiction cultu...\n",
            "1       Adventure Fantasy Action ocean drug abuse exot...\n",
            "2       Action Adventure Crime spy based on novel secr...\n",
            "3       Action Crime Drama Thriller dc comics crime fi...\n",
            "4       Action Adventure Science Fiction based on nove...\n",
            "                              ...                        \n",
            "4798    Action Crime Thriller united states\\u2013mexic...\n",
            "4799    Comedy Romance  A newlywed couple's honeymoon ...\n",
            "4800    Comedy Drama Romance TV Movie date love at fir...\n",
            "4801      A New Yorker in Shanghai Daniel Henney Eliza...\n",
            "4802    Documentary obsession camcorder crush dream gi...\n",
            "Length: 4803, dtype: object\n"
          ]
        }
      ]
    },
    {
      "cell_type": "code",
      "source": [
        "# Converting text into Number Because Cosine similarity will compare from Number that's why\n",
        "vectorizer = TfidfVectorizer()"
      ],
      "metadata": {
        "id": "dKtp9bxe3USS"
      },
      "execution_count": 10,
      "outputs": []
    },
    {
      "cell_type": "code",
      "source": [
        "# all the number or numaric value will be store in the feture_vector variable\n",
        "feature_vector = vectorizer.fit_transform(combined_feature)"
      ],
      "metadata": {
        "id": "dciuCi0J3qzv"
      },
      "execution_count": 11,
      "outputs": []
    },
    {
      "cell_type": "code",
      "source": [
        "print(feature_vector)"
      ],
      "metadata": {
        "id": "_mn6GeTo4Q-T"
      },
      "execution_count": null,
      "outputs": []
    },
    {
      "cell_type": "markdown",
      "source": [
        "Cosine Similarity"
      ],
      "metadata": {
        "id": "z0CFrwD_5UuK"
      }
    },
    {
      "cell_type": "code",
      "source": [
        "# getting the simiarity score using cosine similarity\n",
        "# it will store all the similiarity score from dataset\n",
        "# Now we will copare from this similarity score and predict the movie to the user\n",
        "similarity = cosine_similarity(feature_vector)"
      ],
      "metadata": {
        "id": "Y_xdxJ5Q5YpB"
      },
      "execution_count": 13,
      "outputs": []
    },
    {
      "cell_type": "code",
      "source": [
        "print(similarity)"
      ],
      "metadata": {
        "colab": {
          "base_uri": "https://localhost:8080/"
        },
        "id": "z9676ybb5tGd",
        "outputId": "06fa3cb5-24a1-4b7e-a1fd-71abd2c36170"
      },
      "execution_count": 14,
      "outputs": [
        {
          "output_type": "stream",
          "name": "stdout",
          "text": [
            "[[1.         0.07219487 0.037733   ... 0.         0.         0.        ]\n",
            " [0.07219487 1.         0.03281499 ... 0.03575545 0.         0.        ]\n",
            " [0.037733   0.03281499 1.         ... 0.         0.05389661 0.        ]\n",
            " ...\n",
            " [0.         0.03575545 0.         ... 1.         0.         0.02651502]\n",
            " [0.         0.         0.05389661 ... 0.         1.         0.        ]\n",
            " [0.         0.         0.         ... 0.02651502 0.         1.        ]]\n"
          ]
        }
      ]
    },
    {
      "cell_type": "code",
      "source": [
        "# it indicate index and row\n",
        "similarity.shape"
      ],
      "metadata": {
        "colab": {
          "base_uri": "https://localhost:8080/"
        },
        "id": "Kx4xxcI459ci",
        "outputId": "490de020-fbde-4eb9-cb2f-67d950241db8"
      },
      "execution_count": 15,
      "outputs": [
        {
          "output_type": "execute_result",
          "data": {
            "text/plain": [
              "(4803, 4803)"
            ]
          },
          "metadata": {},
          "execution_count": 15
        }
      ]
    },
    {
      "cell_type": "code",
      "source": [
        "# Getting the movie name from the user\n",
        "movie_name = input(\"Enter your Fav Movie name : \")"
      ],
      "metadata": {
        "colab": {
          "base_uri": "https://localhost:8080/"
        },
        "id": "9bSG17Mb6ZRy",
        "outputId": "4819d754-173e-4f64-bf59-681b3782138b"
      },
      "execution_count": 16,
      "outputs": [
        {
          "name": "stdout",
          "output_type": "stream",
          "text": [
            "Enter your Fav Movie name : iron man\n"
          ]
        }
      ]
    },
    {
      "cell_type": "code",
      "source": [
        "#creating a list will all the movie name from the given dataset\n",
        "#tolist is the tool that print all the movie name that is in the title column\n",
        "# it will print all the movie title name now we will compare which is close to\n",
        "# user input movie name\n",
        "list_of_all_titles = movie_data['title'].tolist()\n",
        "print(list_of_all_titles)"
      ],
      "metadata": {
        "id": "1-Y_ZRAf8ArJ"
      },
      "execution_count": null,
      "outputs": []
    },
    {
      "cell_type": "code",
      "source": [
        "# finding the close match with the user input movie mane i.e iron man\n",
        "find_close_match = difflib.get_close_matches(movie_name, list_of_all_titles)\n",
        "print(find_close_match)\n"
      ],
      "metadata": {
        "colab": {
          "base_uri": "https://localhost:8080/"
        },
        "id": "QOZIjfF-9nTg",
        "outputId": "cc0cf156-a382-4c5c-a9ff-aa4ad6e1badb"
      },
      "execution_count": 18,
      "outputs": [
        {
          "output_type": "stream",
          "name": "stdout",
          "text": [
            "['Iron Man', 'Iron Man 3', 'Iron Man 2']\n"
          ]
        }
      ]
    },
    {
      "cell_type": "code",
      "source": [
        "close_match = find_close_match[0]\n",
        "print(close_match)"
      ],
      "metadata": {
        "colab": {
          "base_uri": "https://localhost:8080/"
        },
        "id": "uqAOM3RjAf0O",
        "outputId": "2c0dea5c-b9ac-48d7-d390-e20c5893356c"
      },
      "execution_count": 19,
      "outputs": [
        {
          "output_type": "stream",
          "name": "stdout",
          "text": [
            "Iron Man\n"
          ]
        }
      ]
    },
    {
      "cell_type": "code",
      "source": [
        "# finding the index of the movie with title\n",
        "# we will compare title of all movie with close match\n",
        "# if found close match then we  will find its index\n",
        "# output is 68 means close match is present at index 68\n",
        "index_of_the_movie = movie_data[movie_data.title == close_match]['index'].values[0]\n",
        "print(index_of_the_movie)"
      ],
      "metadata": {
        "colab": {
          "base_uri": "https://localhost:8080/"
        },
        "id": "_Qkz3GVfAua8",
        "outputId": "71bbd131-e824-497a-d195-88aa8375d466"
      },
      "execution_count": 20,
      "outputs": [
        {
          "output_type": "stream",
          "name": "stdout",
          "text": [
            "68\n"
          ]
        }
      ]
    },
    {
      "cell_type": "code",
      "source": [
        "#getting the list of simlar movie based in index 68 i.e iron man , iron man se milta julta jiska similarty score hai\n",
        "similarti_score = list(enumerate(similarity[index_of_the_movie]))\n",
        "print(similarti_score)"
      ],
      "metadata": {
        "id": "hwgx6ilQC4iK"
      },
      "execution_count": null,
      "outputs": []
    },
    {
      "cell_type": "code",
      "source": [
        "len(similarti_score)"
      ],
      "metadata": {
        "colab": {
          "base_uri": "https://localhost:8080/"
        },
        "id": "J6IXCxLQdZr8",
        "outputId": "3ea331fa-e0ad-41ac-dff9-708ab8a3efa6"
      },
      "execution_count": 26,
      "outputs": [
        {
          "output_type": "execute_result",
          "data": {
            "text/plain": [
              "4803"
            ]
          },
          "metadata": {},
          "execution_count": 26
        }
      ]
    },
    {
      "cell_type": "code",
      "source": [
        "# Now we are sorint the movie based on their similarty score , in desc order\n",
        "# based on index no 68, it will predict  which has highest similarity from index no 68\n",
        "sorted_similar_movies = sorted(similarti_score, key = lambda x:x[1],  reverse = True)\n",
        "print(sorted_similar_movies)"
      ],
      "metadata": {
        "id": "D8MT2IJaddtb"
      },
      "execution_count": null,
      "outputs": []
    },
    {
      "cell_type": "code",
      "source": [
        "#print the number of similar movie based on the index\n",
        "# it will print top 30 movie which is related to iron man, which was enter by user\n",
        "print(\" Moview suggested for you : \\n\")\n",
        "# i = 1 represent second index of sorted_similar_movie\n",
        "\n",
        "i = 1\n",
        "\n",
        "for movie in sorted_similar_movies:\n",
        "  index = movie[0]\n",
        "  title_from_index = movie_data[movie_data.index==index]['title'].values[0]\n",
        "  if(i<30):\n",
        "    print(i,'.', title_from_index)\n",
        "    i+=1"
      ],
      "metadata": {
        "colab": {
          "base_uri": "https://localhost:8080/"
        },
        "id": "cSFDEt5KgNWh",
        "outputId": "fc0862d9-5761-47e0-d9c1-a74a97018e13"
      },
      "execution_count": 31,
      "outputs": [
        {
          "output_type": "stream",
          "name": "stdout",
          "text": [
            " Moview suggested for you : \n",
            "\n",
            "1 . Iron Man\n",
            "2 . Iron Man 2\n",
            "3 . Iron Man 3\n",
            "4 . Avengers: Age of Ultron\n",
            "5 . The Avengers\n",
            "6 . Captain America: Civil War\n",
            "7 . Captain America: The Winter Soldier\n",
            "8 . Ant-Man\n",
            "9 . X-Men\n",
            "10 . Made\n",
            "11 . X-Men: Apocalypse\n",
            "12 . X2\n",
            "13 . The Incredible Hulk\n",
            "14 . The Helix... Loaded\n",
            "15 . X-Men: First Class\n",
            "16 . X-Men: Days of Future Past\n",
            "17 . Captain America: The First Avenger\n",
            "18 . Kick-Ass 2\n",
            "19 . Guardians of the Galaxy\n",
            "20 . Deadpool\n",
            "21 . Thor: The Dark World\n",
            "22 . G-Force\n",
            "23 . X-Men: The Last Stand\n",
            "24 . Duets\n",
            "25 . Mortdecai\n",
            "26 . The Last Airbender\n",
            "27 . Southland Tales\n",
            "28 . Zathura: A Space Adventure\n",
            "29 . Sky Captain and the World of Tomorrow\n"
          ]
        }
      ]
    },
    {
      "cell_type": "markdown",
      "source": [
        "Movie Recommendation System"
      ],
      "metadata": {
        "id": "EAHbM6oklgA6"
      }
    },
    {
      "cell_type": "code",
      "source": [
        "movie_name = input(\"Enter your Fav Movie name : \")\n",
        "\n",
        "list_of_all_titles = movie_data['title'].tolist()\n",
        "\n",
        "find_close_match = difflib.get_close_matches(movie_name, list_of_all_titles)\n",
        "\n",
        "close_match = find_close_match[0]\n",
        "\n",
        "index_of_the_movie = movie_data[movie_data.title == close_match]['index'].values[0]\n",
        "\n",
        "similarti_score = list(enumerate(similarity[index_of_the_movie]))\n",
        "\n",
        "sorted_similar_movies = sorted(similarti_score, key = lambda x:x[1],  reverse = True)\n",
        "\n",
        "print(\" Moview suggested for you : \\n\")\n",
        "\n",
        "i = 1\n",
        "\n",
        "\n",
        "for movie in sorted_similar_movies:\n",
        "  index = movie[0]\n",
        "  title_from_index = movie_data[movie_data.index==index]['title'].values[0]\n",
        "  if(i<30):\n",
        "    print(i,'.', title_from_index)\n",
        "    i+=1"
      ],
      "metadata": {
        "colab": {
          "base_uri": "https://localhost:8080/"
        },
        "id": "CtZ94Qswlkul",
        "outputId": "4034e939-f7d4-4d71-c98c-489ef3475a53"
      },
      "execution_count": 33,
      "outputs": [
        {
          "output_type": "stream",
          "name": "stdout",
          "text": [
            "Enter your Fav Movie name : bat man\n",
            " Moview suggested for you : \n",
            "\n",
            "1 . Batman\n",
            "2 . Batman Returns\n",
            "3 . Batman & Robin\n",
            "4 . The Dark Knight Rises\n",
            "5 . Batman Begins\n",
            "6 . The Dark Knight\n",
            "7 . A History of Violence\n",
            "8 . Superman\n",
            "9 . Beetlejuice\n",
            "10 . Bedazzled\n",
            "11 . Mars Attacks!\n",
            "12 . The Sentinel\n",
            "13 . Planet of the Apes\n",
            "14 . Man of Steel\n",
            "15 . Suicide Squad\n",
            "16 . The Mask\n",
            "17 . Salton Sea\n",
            "18 . Spider-Man 3\n",
            "19 . The Postman Always Rings Twice\n",
            "20 . Hang 'em High\n",
            "21 . Spider-Man 2\n",
            "22 . Dungeons & Dragons: Wrath of the Dragon God\n",
            "23 . Superman Returns\n",
            "24 . Jonah Hex\n",
            "25 . Exorcist II: The Heretic\n",
            "26 . Superman II\n",
            "27 . Green Lantern\n",
            "28 . Superman III\n",
            "29 . Something's Gotta Give\n"
          ]
        }
      ]
    }
  ]
}